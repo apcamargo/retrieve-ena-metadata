{
 "cells": [
  {
   "cell_type": "code",
   "execution_count": 1,
   "metadata": {},
   "outputs": [],
   "source": [
    "import json\n",
    "import logging\n",
    "import time\n",
    "from datetime import date, datetime\n",
    "from typing import Dict, List, Optional\n",
    "\n",
    "import polars as pl\n",
    "import requests\n",
    "import taxopy\n",
    "from pydantic import BaseModel, ValidationInfo, field_validator\n",
    "from pydantic_core import to_jsonable_python\n",
    "from requests.exceptions import RequestException"
   ]
  },
  {
   "cell_type": "code",
   "execution_count": 2,
   "metadata": {},
   "outputs": [],
   "source": [
    "SEQUENCE_ACCESSIONS = [\"CP025066\", \"CP003099\", \"CP019400\", \"CP080467\", \"CP093911\"]"
   ]
  },
  {
   "cell_type": "code",
   "execution_count": 3,
   "metadata": {},
   "outputs": [],
   "source": [
    "def get_sequence_metadata(\n",
    "    sequence_accession: str, n_tries: int = 3, wait: int = 10\n",
    ") -> Dict[str, Optional[str]]:\n",
    "    # Define the base URL for the ENA API\n",
    "    base_url = f\"https://www.ebi.ac.uk/ena/browser/api/summary/{sequence_accession}\"\n",
    "    # Define the parameters for the API request\n",
    "    params = {\n",
    "        \"dataType\": \"sequence\",  # Specify the data type\n",
    "        \"format\": \"json\",  # Request the data in JSON format\n",
    "    }\n",
    "    attempt = 0\n",
    "    while attempt < n_tries:\n",
    "        try:\n",
    "            # Make the GET request to the ENA API\n",
    "            response = requests.get(base_url, params=params)\n",
    "            # Check if the request was successful (status code 200)\n",
    "            response.raise_for_status()\n",
    "            metadata = response.json()[\"summaries\"]\n",
    "            if not metadata:\n",
    "                raise ValueError(f\"No metadata found for '{sequence_accession}'\")\n",
    "            return metadata[0]\n",
    "        except RequestException as e:\n",
    "            logging.warning(f\"Attempt {attempt + 1} failed: {str(e)}\")\n",
    "            # Start trying again if the request failed and there are attempts left\n",
    "            if attempt < n_tries - 1:\n",
    "                logging.info(f\"Retrying in {wait} seconds…\")\n",
    "                time.sleep(wait)\n",
    "            else:\n",
    "                raise RequestException(f\"Failed to retrieve data: {str(e)}\") from e\n",
    "        attempt += 1"
   ]
  },
  {
   "cell_type": "code",
   "execution_count": 4,
   "metadata": {},
   "outputs": [],
   "source": [
    "class SequenceMetadata(BaseModel):\n",
    "    accession: str\n",
    "    description: str\n",
    "    version: int\n",
    "    project: str\n",
    "    sample: str\n",
    "    moleculeType: str\n",
    "    taxon: int\n",
    "    dataType: str\n",
    "    dataClass: str\n",
    "    firstPublic: date\n",
    "    lastUpdated: date\n",
    "    status: int\n",
    "    statusDescription: str\n",
    "    sequenceLength: int\n",
    "    publications: Optional[List[Dict[str, str]]] = None\n",
    "\n",
    "    @field_validator(\"firstPublic\", \"lastUpdated\", mode=\"before\")\n",
    "    @classmethod\n",
    "    def parse_single_timestamp(cls, data: str, info: ValidationInfo) -> datetime:\n",
    "        try:\n",
    "            return datetime.strptime(data, \"%d-%b-%Y\").date()\n",
    "        except ValueError:\n",
    "            raise ValueError(f\"Invalid date format for {info.field_name}: {data}\")"
   ]
  },
  {
   "cell_type": "code",
   "execution_count": 5,
   "metadata": {},
   "outputs": [
    {
     "name": "stdout",
     "output_type": "stream",
     "text": [
      "accession='CP025066' description='Halalkaliarchaeum desulfuricum strain AArc-Sl chromosome, complete genome.' version=1 project='PRJNA419617' sample='SAMN08093583' moleculeType='genomic DNA' taxon=2055893 dataType='SEQUENCE' dataClass='STD' firstPublic=datetime.date(2018, 9, 1) lastUpdated=datetime.date(2019, 11, 28) status=4 statusDescription='public' sequenceLength=3313120 publications=[{'source': 'PUBMED', 'pId': '31166158'}]\n",
      "accession='CP003099' description='Aggregatibacter actinomycetemcomitans ANH9381, complete genome.' version=1 project='PRJNA47337' sample='SAMN02603044' moleculeType='genomic DNA' taxon=754507 dataType='SEQUENCE' dataClass='STD' firstPublic=datetime.date(2011, 12, 25) lastUpdated=datetime.date(2014, 5, 15) status=4 statusDescription='public' sequenceLength=2136808 publications=[{'source': 'DOI', 'pId': '10.1128/JB.06770-11'}, {'source': 'PUBMED', 'pId': '22408240'}]\n",
      "accession='CP019400' description='Acidipropionibacterium acidipropionici strain WSH1105, complete genome.' version=1 project='PRJNA301197' sample='SAMN04230715' moleculeType='genomic DNA' taxon=1748 dataType='SEQUENCE' dataClass='STD' firstPublic=datetime.date(2017, 2, 1) lastUpdated=datetime.date(2017, 2, 1) status=4 statusDescription='public' sequenceLength=3645455 publications=None\n",
      "accession='CP080467' description='Alicyclobacillus acidoterrestris strain DSM 3922 chromosome, complete genome.' version=1 project='PRJNA751022' sample='SAMN20503121' moleculeType='genomic DNA' taxon=1450 dataType='SEQUENCE' dataClass='STD' firstPublic=datetime.date(2022, 3, 24) lastUpdated=datetime.date(2023, 6, 15) status=4 statusDescription='public' sequenceLength=4222202 publications=[{'source': 'PUBMED', 'pId': '36240455'}]\n",
      "accession='CP093911' description='Aggregatibacter actinomycetemcomitans strain 16R chromosome, complete genome.' version=1 project='PRJNA787784' sample='SAMN23845304' moleculeType='genomic DNA' taxon=714 dataType='SEQUENCE' dataClass='STD' firstPublic=datetime.date(2022, 8, 24) lastUpdated=datetime.date(2022, 8, 27) status=4 statusDescription='public' sequenceLength=2077859 publications=None\n"
     ]
    }
   ],
   "source": [
    "sample_metadata = [\n",
    "    SequenceMetadata.model_validate(get_sequence_metadata(s)) for s in SEQUENCE_ACCESSIONS\n",
    "]\n",
    "for m in sample_metadata:\n",
    "    print(m)"
   ]
  },
  {
   "cell_type": "code",
   "execution_count": 6,
   "metadata": {},
   "outputs": [],
   "source": [
    "# Serialize the data to a JSON file\n",
    "with open(\"sample_metadata.json\", \"w\") as fo:\n",
    "    json.dump(to_jsonable_python(sample_metadata), fo, indent=2)"
   ]
  },
  {
   "cell_type": "code",
   "execution_count": 7,
   "metadata": {},
   "outputs": [
    {
     "data": {
      "text/html": [
       "<div><style>\n",
       ".dataframe > thead > tr,\n",
       ".dataframe > tbody > tr {\n",
       "  text-align: right;\n",
       "  white-space: pre-wrap;\n",
       "}\n",
       "</style>\n",
       "<small>shape: (5, 15)</small><table border=\"1\" class=\"dataframe\"><thead><tr><th>accession</th><th>description</th><th>version</th><th>project</th><th>sample</th><th>moleculeType</th><th>taxon</th><th>dataType</th><th>dataClass</th><th>firstPublic</th><th>lastUpdated</th><th>status</th><th>statusDescription</th><th>sequenceLength</th><th>publications</th></tr><tr><td>str</td><td>str</td><td>i64</td><td>str</td><td>str</td><td>str</td><td>i64</td><td>str</td><td>str</td><td>date</td><td>date</td><td>i64</td><td>str</td><td>i64</td><td>list[struct[2]]</td></tr></thead><tbody><tr><td>&quot;CP025066&quot;</td><td>&quot;Halalkaliarchaeum desulfuricum…</td><td>1</td><td>&quot;PRJNA419617&quot;</td><td>&quot;SAMN08093583&quot;</td><td>&quot;genomic DNA&quot;</td><td>2055893</td><td>&quot;SEQUENCE&quot;</td><td>&quot;STD&quot;</td><td>2018-09-01</td><td>2019-11-28</td><td>4</td><td>&quot;public&quot;</td><td>3313120</td><td>[{&quot;PUBMED&quot;,&quot;31166158&quot;}]</td></tr><tr><td>&quot;CP003099&quot;</td><td>&quot;Aggregatibacter actinomycetemc…</td><td>1</td><td>&quot;PRJNA47337&quot;</td><td>&quot;SAMN02603044&quot;</td><td>&quot;genomic DNA&quot;</td><td>754507</td><td>&quot;SEQUENCE&quot;</td><td>&quot;STD&quot;</td><td>2011-12-25</td><td>2014-05-15</td><td>4</td><td>&quot;public&quot;</td><td>2136808</td><td>[{&quot;DOI&quot;,&quot;10.1128/JB.06770-11&quot;}, {&quot;PUBMED&quot;,&quot;22408240&quot;}]</td></tr><tr><td>&quot;CP019400&quot;</td><td>&quot;Acidipropionibacterium acidipr…</td><td>1</td><td>&quot;PRJNA301197&quot;</td><td>&quot;SAMN04230715&quot;</td><td>&quot;genomic DNA&quot;</td><td>1748</td><td>&quot;SEQUENCE&quot;</td><td>&quot;STD&quot;</td><td>2017-02-01</td><td>2017-02-01</td><td>4</td><td>&quot;public&quot;</td><td>3645455</td><td>null</td></tr><tr><td>&quot;CP080467&quot;</td><td>&quot;Alicyclobacillus acidoterrestr…</td><td>1</td><td>&quot;PRJNA751022&quot;</td><td>&quot;SAMN20503121&quot;</td><td>&quot;genomic DNA&quot;</td><td>1450</td><td>&quot;SEQUENCE&quot;</td><td>&quot;STD&quot;</td><td>2022-03-24</td><td>2023-06-15</td><td>4</td><td>&quot;public&quot;</td><td>4222202</td><td>[{&quot;PUBMED&quot;,&quot;36240455&quot;}]</td></tr><tr><td>&quot;CP093911&quot;</td><td>&quot;Aggregatibacter actinomycetemc…</td><td>1</td><td>&quot;PRJNA787784&quot;</td><td>&quot;SAMN23845304&quot;</td><td>&quot;genomic DNA&quot;</td><td>714</td><td>&quot;SEQUENCE&quot;</td><td>&quot;STD&quot;</td><td>2022-08-24</td><td>2022-08-27</td><td>4</td><td>&quot;public&quot;</td><td>2077859</td><td>null</td></tr></tbody></table></div>"
      ],
      "text/plain": [
       "shape: (5, 15)\n",
       "┌───────────┬────────────┬─────────┬────────────┬───┬────────┬────────────┬────────────┬───────────┐\n",
       "│ accession ┆ descriptio ┆ version ┆ project    ┆ … ┆ status ┆ statusDesc ┆ sequenceLe ┆ publicati │\n",
       "│ ---       ┆ n          ┆ ---     ┆ ---        ┆   ┆ ---    ┆ ription    ┆ ngth       ┆ ons       │\n",
       "│ str       ┆ ---        ┆ i64     ┆ str        ┆   ┆ i64    ┆ ---        ┆ ---        ┆ ---       │\n",
       "│           ┆ str        ┆         ┆            ┆   ┆        ┆ str        ┆ i64        ┆ list[stru │\n",
       "│           ┆            ┆         ┆            ┆   ┆        ┆            ┆            ┆ ct[2]]    │\n",
       "╞═══════════╪════════════╪═════════╪════════════╪═══╪════════╪════════════╪════════════╪═══════════╡\n",
       "│ CP025066  ┆ Halalkalia ┆ 1       ┆ PRJNA41961 ┆ … ┆ 4      ┆ public     ┆ 3313120    ┆ [{\"PUBMED │\n",
       "│           ┆ rchaeum    ┆         ┆ 7          ┆   ┆        ┆            ┆            ┆ \",\"311661 │\n",
       "│           ┆ desulfuric ┆         ┆            ┆   ┆        ┆            ┆            ┆ 58\"}]     │\n",
       "│           ┆ um…        ┆         ┆            ┆   ┆        ┆            ┆            ┆           │\n",
       "│ CP003099  ┆ Aggregatib ┆ 1       ┆ PRJNA47337 ┆ … ┆ 4      ┆ public     ┆ 2136808    ┆ [{\"DOI\",\" │\n",
       "│           ┆ acter acti ┆         ┆            ┆   ┆        ┆            ┆            ┆ 10.1128/J │\n",
       "│           ┆ nomycetemc ┆         ┆            ┆   ┆        ┆            ┆            ┆ B.06770-1 │\n",
       "│           ┆ …          ┆         ┆            ┆   ┆        ┆            ┆            ┆ 1\"}…      │\n",
       "│ CP019400  ┆ Acidipropi ┆ 1       ┆ PRJNA30119 ┆ … ┆ 4      ┆ public     ┆ 3645455    ┆ null      │\n",
       "│           ┆ onibacteri ┆         ┆ 7          ┆   ┆        ┆            ┆            ┆           │\n",
       "│           ┆ um         ┆         ┆            ┆   ┆        ┆            ┆            ┆           │\n",
       "│           ┆ acidipr…   ┆         ┆            ┆   ┆        ┆            ┆            ┆           │\n",
       "│ CP080467  ┆ Alicycloba ┆ 1       ┆ PRJNA75102 ┆ … ┆ 4      ┆ public     ┆ 4222202    ┆ [{\"PUBMED │\n",
       "│           ┆ cillus aci ┆         ┆ 2          ┆   ┆        ┆            ┆            ┆ \",\"362404 │\n",
       "│           ┆ doterrestr ┆         ┆            ┆   ┆        ┆            ┆            ┆ 55\"}]     │\n",
       "│           ┆ …          ┆         ┆            ┆   ┆        ┆            ┆            ┆           │\n",
       "│ CP093911  ┆ Aggregatib ┆ 1       ┆ PRJNA78778 ┆ … ┆ 4      ┆ public     ┆ 2077859    ┆ null      │\n",
       "│           ┆ acter acti ┆         ┆ 4          ┆   ┆        ┆            ┆            ┆           │\n",
       "│           ┆ nomycetemc ┆         ┆            ┆   ┆        ┆            ┆            ┆           │\n",
       "│           ┆ …          ┆         ┆            ┆   ┆        ┆            ┆            ┆           │\n",
       "└───────────┴────────────┴─────────┴────────────┴───┴────────┴────────────┴────────────┴───────────┘"
      ]
     },
     "execution_count": 7,
     "metadata": {},
     "output_type": "execute_result"
    }
   ],
   "source": [
    "# Load the data into a Polars DataFrame\n",
    "pl.DataFrame(sample_metadata)"
   ]
  },
  {
   "cell_type": "code",
   "execution_count": null,
   "metadata": {},
   "outputs": [
    {
     "name": "stdout",
     "output_type": "stream",
     "text": [
      "species: Halalkaliarchaeum desulfuricum\n",
      "genus: Halalkaliarchaeum\n",
      "family: Haloferacaceae\n",
      "order: Halobacteriales\n",
      "class: Halobacteria\n",
      "clade: Stenosarchaea group\n",
      "phylum: Methanobacteriota\n",
      "kingdom: Methanobacteriati\n",
      "superkingdom: Archaea\n",
      "no rank: cellular organisms\n",
      "no rank: root\n"
     ]
    }
   ],
   "source": [
    "# Parse taxonomy id using taxopy\n",
    "taxdb = taxopy.TaxDb()\n",
    "host_taxon = taxopy.Taxon(sample_metadata[0].taxon, taxdb)\n",
    "for rank, name in host_taxon.ranked_name_lineage:\n",
    "    print(f\"{rank}: {name}\")"
   ]
  }
 ],
 "metadata": {
  "kernelspec": {
   "display_name": "Pixi - Python 3 (ipykernel)",
   "language": "python",
   "name": "pixi-kernel-python3"
  },
  "language_info": {
   "codemirror_mode": {
    "name": "ipython",
    "version": 3
   },
   "file_extension": ".py",
   "mimetype": "text/x-python",
   "name": "python",
   "nbconvert_exporter": "python",
   "pygments_lexer": "ipython3",
   "version": "3.12.5"
  }
 },
 "nbformat": 4,
 "nbformat_minor": 2
}
