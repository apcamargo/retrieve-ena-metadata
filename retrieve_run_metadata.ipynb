{
 "cells": [
  {
   "cell_type": "code",
   "execution_count": 1,
   "metadata": {},
   "outputs": [],
   "source": [
    "import json\n",
    "import logging\n",
    "import time\n",
    "from datetime import date, datetime\n",
    "from typing import Dict, List, Optional\n",
    "\n",
    "import polars as pl\n",
    "import pycountry\n",
    "import requests\n",
    "import taxopy\n",
    "from pydantic import BaseModel, ValidationInfo, field_validator\n",
    "from pydantic_core import to_jsonable_python\n",
    "from pydantic_extra_types.coordinate import Coordinate\n",
    "from pydantic_extra_types.country import CountryShortName\n",
    "from requests.exceptions import RequestException"
   ]
  },
  {
   "cell_type": "code",
   "execution_count": 2,
   "metadata": {},
   "outputs": [],
   "source": [
    "RUN_ACCESSIONS = [\"SRR7091408\", \"SRR3993031\", \"SRR30564975\", \"ERR9632109\"]\n",
    "FIELDS = [\n",
    "    \"run_accession\",\n",
    "    \"study_accession\",\n",
    "    \"sample_accession\",\n",
    "    \"library_strategy\",\n",
    "    \"library_source\",\n",
    "    \"sample_description\",\n",
    "    \"first_public\",\n",
    "    \"country\",\n",
    "    \"location\",\n",
    "    \"collection_date_start\",\n",
    "    \"collection_date_end\",\n",
    "    \"tax_id\",\n",
    "    \"host_tax_id\",\n",
    "]"
   ]
  },
  {
   "cell_type": "code",
   "execution_count": 3,
   "metadata": {},
   "outputs": [],
   "source": [
    "def get_run_metadata(\n",
    "    run_accession: str, fields: List[str], n_tries: int = 3, wait: int = 10\n",
    ") -> Dict[str, Optional[str]]:\n",
    "    # Define the base URL for the ENA API\n",
    "    base_url = \"https://www.ebi.ac.uk/ena/portal/api/filereport\"\n",
    "    # Define the parameters for the API request\n",
    "    params = {\n",
    "        \"accession\": run_accession,  # Run accession\n",
    "        \"result\": \"read_run\",  # Specify the type of data you want\n",
    "        \"format\": \"json\",  # Request the data in JSON format\n",
    "        \"fields\": \",\".join(fields),  # Request specific fields\n",
    "    }\n",
    "    attempt = 0\n",
    "    while attempt < n_tries:\n",
    "        try:\n",
    "            # Make the GET request to the ENA API\n",
    "            response = requests.get(base_url, params=params)\n",
    "            # Check if the request was successful (status code 200)\n",
    "            response.raise_for_status()\n",
    "            metadata = response.json()[0]\n",
    "            return {k: v for k, v in metadata.items() if len(v)}\n",
    "        except RequestException as e:\n",
    "            logging.warning(f\"Attempt {attempt + 1} failed: {str(e)}\")\n",
    "            # Start trying again if the request failed and there are attempts left\n",
    "            if attempt < n_tries - 1:\n",
    "                logging.info(f\"Retrying in {wait} seconds…\")\n",
    "                time.sleep(wait)\n",
    "            else:\n",
    "                raise RequestException(f\"Failed to retrieve data: {str(e)}\") from e\n",
    "        attempt += 1"
   ]
  },
  {
   "cell_type": "code",
   "execution_count": 4,
   "metadata": {},
   "outputs": [],
   "source": [
    "class RunMetadata(BaseModel):\n",
    "    run_accession: str\n",
    "    study_accession: str\n",
    "    sample_accession: str\n",
    "    library_strategy: str\n",
    "    library_source: str\n",
    "    sample_description: Optional[str] = None\n",
    "    first_public: Optional[date] = None\n",
    "    country: Optional[CountryShortName] = None\n",
    "    location: Optional[Coordinate] = None\n",
    "    collection_date_start: Optional[date] = None\n",
    "    collection_date_end: Optional[date] = None\n",
    "    tax_id: Optional[int] = None\n",
    "    host_tax_id: Optional[int] = None\n",
    "\n",
    "    @field_validator(\n",
    "        \"first_public\",\n",
    "        \"collection_date_start\",\n",
    "        \"collection_date_end\",\n",
    "        mode=\"before\",\n",
    "    )\n",
    "    @classmethod\n",
    "    def parse_single_timestamp(cls, data: str, info: ValidationInfo) -> datetime:\n",
    "        data = data.strip(\"Z\")\n",
    "        date_formats = [\"%Y-%m-%d\", \"%Y\", \"%Y-%m\", \"%B %Y\"]\n",
    "        for fmt in date_formats:\n",
    "            try:\n",
    "                return datetime.strptime(data, fmt).date()\n",
    "            except ValueError:\n",
    "                continue\n",
    "        raise ValueError(f\"Invalid date format for {info.field_name}: {data}\")\n",
    "\n",
    "    @field_validator(\"country\", mode=\"before\")\n",
    "    @classmethod\n",
    "    def fix_country_name(cls, data: str, info: ValidationInfo) -> str:\n",
    "        country_name = (\n",
    "            data.split(\":\")[0].split(\",\")[0].split(\";\")[0].split(\"/\")[0].strip()\n",
    "        )\n",
    "        if country_name.casefold() == \"russia\":\n",
    "            country_name = \"Russian Federation\"\n",
    "        try:\n",
    "            return pycountry.countries.lookup(country_name).name\n",
    "        except LookupError:\n",
    "            try:\n",
    "                return pycountry.countries.lookup(\n",
    "                    country_name.split(\"(\")[1].split(\")\")[0]\n",
    "                ).name\n",
    "            except (LookupError, IndexError):\n",
    "                raise ValueError(f\"Invalid country name for {info.field_name}: {data}\")\n",
    "\n",
    "    @field_validator(\"location\", mode=\"before\")\n",
    "    @classmethod\n",
    "    def fix_location(cls, data: str) -> Coordinate:\n",
    "        lat_str, lat_dir, lon_str, lon_dir = data.split()\n",
    "        lat = float(lat_str) * (-1 if lat_dir in [\"S\", \"W\"] else 1)\n",
    "        lon = float(lon_str) * (-1 if lon_dir in [\"S\", \"W\"] else 1)\n",
    "        return Coordinate(lat, lon)"
   ]
  },
  {
   "cell_type": "code",
   "execution_count": 5,
   "metadata": {},
   "outputs": [
    {
     "name": "stdout",
     "output_type": "stream",
     "text": [
      "run_accession='SRR7091408' study_accession='PRJNA441428' sample_accession='SAMN08777777' library_strategy='WGS' library_source='METAGENOMIC' sample_description='Rhizosphere microbial communities from Vellozia epidendroides in rupestrian grasslands, the National Park of Serra do Cipo, Brazil - RX_R1' first_public=datetime.date(2018, 5, 3) country='Brazil' location=Coordinate(latitude=-19.2822, longitude=-43.5936) collection_date_start=datetime.date(2017, 3, 6) collection_date_end=datetime.date(2017, 3, 6) tax_id=939928 host_tax_id=1051480\n",
      "run_accession='SRR3993031' study_accession='PRJNA328899' sample_accession='SAMN05414960' library_strategy='WGS' library_source='METAGENOMIC' sample_description='Keywords: GSC:MIxS MIMS:5.0' first_public=datetime.date(2016, 8, 8) country='China' location=Coordinate(latitude=43.95, longitude=116.13) collection_date_start=datetime.date(2010, 9, 30) collection_date_end=datetime.date(2010, 10, 31) tax_id=408170 host_tax_id=9606\n",
      "run_accession='SRR30564975' study_accession='PRJNA1155310' sample_accession='SAMN43456476' library_strategy='AMPLICON' library_source='METAGENOMIC' sample_description=None first_public=datetime.date(2024, 9, 8) country=None location=None collection_date_start=None collection_date_end=None tax_id=410658 host_tax_id=None\n",
      "run_accession='ERR9632109' study_accession='PRJEB49206' sample_accession='SAMEA14201091' library_strategy='WGS' library_source='GENOMIC' sample_description='This sample represents a Bifidobacterium infantis genome isolated and sequenced from ERS2586324' first_public=datetime.date(2022, 4, 20) country='Tanzania, United Republic of' location=Coordinate(latitude=-3.55, longitude=-34.58) collection_date_start=datetime.date(2014, 1, 1) collection_date_end=datetime.date(2014, 12, 31) tax_id=1682 host_tax_id=None\n"
     ]
    }
   ],
   "source": [
    "run_metadata = [\n",
    "    RunMetadata.model_validate(get_run_metadata(r, FIELDS)) for r in RUN_ACCESSIONS\n",
    "]\n",
    "for m in run_metadata:\n",
    "    print(m)"
   ]
  },
  {
   "cell_type": "code",
   "execution_count": 6,
   "metadata": {},
   "outputs": [],
   "source": [
    "# Serialize the data to a JSON file\n",
    "with open(\"run_metadata.json\", \"w\") as fo:\n",
    "    json.dump(to_jsonable_python(run_metadata), fo, indent=2)"
   ]
  },
  {
   "cell_type": "code",
   "execution_count": 7,
   "metadata": {},
   "outputs": [
    {
     "data": {
      "text/html": [
       "<div><style>\n",
       ".dataframe > thead > tr,\n",
       ".dataframe > tbody > tr {\n",
       "  text-align: right;\n",
       "  white-space: pre-wrap;\n",
       "}\n",
       "</style>\n",
       "<small>shape: (4, 13)</small><table border=\"1\" class=\"dataframe\"><thead><tr><th>run_accession</th><th>study_accession</th><th>sample_accession</th><th>library_strategy</th><th>library_source</th><th>sample_description</th><th>first_public</th><th>country</th><th>location</th><th>collection_date_start</th><th>collection_date_end</th><th>tax_id</th><th>host_tax_id</th></tr><tr><td>str</td><td>str</td><td>str</td><td>str</td><td>str</td><td>str</td><td>date</td><td>str</td><td>object</td><td>date</td><td>date</td><td>i64</td><td>i64</td></tr></thead><tbody><tr><td>&quot;SRR7091408&quot;</td><td>&quot;PRJNA441428&quot;</td><td>&quot;SAMN08777777&quot;</td><td>&quot;WGS&quot;</td><td>&quot;METAGENOMIC&quot;</td><td>&quot;Rhizosphere microbial communit…</td><td>2018-05-03</td><td>&quot;Brazil&quot;</td><td>-19.2822,-43.5936</td><td>2017-03-06</td><td>2017-03-06</td><td>939928</td><td>1051480</td></tr><tr><td>&quot;SRR3993031&quot;</td><td>&quot;PRJNA328899&quot;</td><td>&quot;SAMN05414960&quot;</td><td>&quot;WGS&quot;</td><td>&quot;METAGENOMIC&quot;</td><td>&quot;Keywords: GSC:MIxS MIMS:5.0&quot;</td><td>2016-08-08</td><td>&quot;China&quot;</td><td>43.95,116.13</td><td>2010-09-30</td><td>2010-10-31</td><td>408170</td><td>9606</td></tr><tr><td>&quot;SRR30564975&quot;</td><td>&quot;PRJNA1155310&quot;</td><td>&quot;SAMN43456476&quot;</td><td>&quot;AMPLICON&quot;</td><td>&quot;METAGENOMIC&quot;</td><td>null</td><td>2024-09-08</td><td>null</td><td>null</td><td>null</td><td>null</td><td>410658</td><td>null</td></tr><tr><td>&quot;ERR9632109&quot;</td><td>&quot;PRJEB49206&quot;</td><td>&quot;SAMEA14201091&quot;</td><td>&quot;WGS&quot;</td><td>&quot;GENOMIC&quot;</td><td>&quot;This sample represents a Bifid…</td><td>2022-04-20</td><td>&quot;Tanzania, United Republic of&quot;</td><td>-3.55,-34.58</td><td>2014-01-01</td><td>2014-12-31</td><td>1682</td><td>null</td></tr></tbody></table></div>"
      ],
      "text/plain": [
       "shape: (4, 13)\n",
       "┌────────────┬────────────┬───────────┬───────────┬───┬───────────┬───────────┬────────┬───────────┐\n",
       "│ run_access ┆ study_acce ┆ sample_ac ┆ library_s ┆ … ┆ collectio ┆ collectio ┆ tax_id ┆ host_tax_ │\n",
       "│ ion        ┆ ssion      ┆ cession   ┆ trategy   ┆   ┆ n_date_st ┆ n_date_en ┆ ---    ┆ id        │\n",
       "│ ---        ┆ ---        ┆ ---       ┆ ---       ┆   ┆ art       ┆ d         ┆ i64    ┆ ---       │\n",
       "│ str        ┆ str        ┆ str       ┆ str       ┆   ┆ ---       ┆ ---       ┆        ┆ i64       │\n",
       "│            ┆            ┆           ┆           ┆   ┆ date      ┆ date      ┆        ┆           │\n",
       "╞════════════╪════════════╪═══════════╪═══════════╪═══╪═══════════╪═══════════╪════════╪═══════════╡\n",
       "│ SRR7091408 ┆ PRJNA44142 ┆ SAMN08777 ┆ WGS       ┆ … ┆ 2017-03-0 ┆ 2017-03-0 ┆ 939928 ┆ 1051480   │\n",
       "│            ┆ 8          ┆ 777       ┆           ┆   ┆ 6         ┆ 6         ┆        ┆           │\n",
       "│ SRR3993031 ┆ PRJNA32889 ┆ SAMN05414 ┆ WGS       ┆ … ┆ 2010-09-3 ┆ 2010-10-3 ┆ 408170 ┆ 9606      │\n",
       "│            ┆ 9          ┆ 960       ┆           ┆   ┆ 0         ┆ 1         ┆        ┆           │\n",
       "│ SRR3056497 ┆ PRJNA11553 ┆ SAMN43456 ┆ AMPLICON  ┆ … ┆ null      ┆ null      ┆ 410658 ┆ null      │\n",
       "│ 5          ┆ 10         ┆ 476       ┆           ┆   ┆           ┆           ┆        ┆           │\n",
       "│ ERR9632109 ┆ PRJEB49206 ┆ SAMEA1420 ┆ WGS       ┆ … ┆ 2014-01-0 ┆ 2014-12-3 ┆ 1682   ┆ null      │\n",
       "│            ┆            ┆ 1091      ┆           ┆   ┆ 1         ┆ 1         ┆        ┆           │\n",
       "└────────────┴────────────┴───────────┴───────────┴───┴───────────┴───────────┴────────┴───────────┘"
      ]
     },
     "execution_count": 7,
     "metadata": {},
     "output_type": "execute_result"
    }
   ],
   "source": [
    "# Load the data into a Polars DataFrame\n",
    "pl.DataFrame(run_metadata)"
   ]
  },
  {
   "cell_type": "code",
   "execution_count": 8,
   "metadata": {},
   "outputs": [
    {
     "name": "stdout",
     "output_type": "stream",
     "text": [
      "species: Vellozia epidendroides\n",
      "genus: Vellozia\n",
      "family: Velloziaceae\n",
      "order: Pandanales\n",
      "subclass: Petrosaviidae\n",
      "clade: Liliopsida\n",
      "clade: Mesangiospermae\n",
      "class: Magnoliopsida\n",
      "clade: Spermatophyta\n",
      "clade: Euphyllophyta\n",
      "clade: Tracheophyta\n",
      "clade: Embryophyta\n",
      "subphylum: Streptophytina\n",
      "phylum: Streptophyta\n",
      "kingdom: Viridiplantae\n",
      "superkingdom: Eukaryota\n",
      "no rank: cellular organisms\n",
      "no rank: root\n"
     ]
    }
   ],
   "source": [
    "# Parse host taxonomy id using taxopy\n",
    "taxdb = taxopy.TaxDb()\n",
    "host_taxon = taxopy.Taxon(run_metadata[0].host_tax_id, taxdb)\n",
    "for rank, name in host_taxon.ranked_name_lineage:\n",
    "    print(f\"{rank}: {name}\")"
   ]
  }
 ],
 "metadata": {
  "kernelspec": {
   "display_name": "Pixi - Python 3 (ipykernel)",
   "language": "python",
   "name": "pixi-kernel-python3"
  },
  "language_info": {
   "codemirror_mode": {
    "name": "ipython",
    "version": 3
   },
   "file_extension": ".py",
   "mimetype": "text/x-python",
   "name": "python",
   "nbconvert_exporter": "python",
   "pygments_lexer": "ipython3",
   "version": "3.12.5"
  }
 },
 "nbformat": 4,
 "nbformat_minor": 2
}
