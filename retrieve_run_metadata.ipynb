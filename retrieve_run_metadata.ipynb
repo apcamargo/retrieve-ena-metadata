{
 "cells": [
  {
   "cell_type": "code",
   "execution_count": 1,
   "metadata": {},
   "outputs": [],
   "source": [
    "import json\n",
    "import logging\n",
    "import time\n",
    "from datetime import date, datetime\n",
    "from typing import Dict, List, Optional\n",
    "\n",
    "import pycountry\n",
    "import requests\n",
    "import taxopy\n",
    "from pydantic import BaseModel, ValidationInfo, field_validator\n",
    "from pydantic_core import to_jsonable_python\n",
    "from pydantic_extra_types.coordinate import Coordinate\n",
    "from pydantic_extra_types.country import CountryShortName\n",
    "from requests.exceptions import RequestException"
   ]
  },
  {
   "cell_type": "code",
   "execution_count": 2,
   "metadata": {},
   "outputs": [],
   "source": [
    "RUN_ACCESSIONS = [\"SRR7091408\", \"SRR3993031\", \"SRR6782230\", \"ERR9632109\"]\n",
    "FIELDS = [\n",
    "    \"run_accession\",\n",
    "    \"study_accession\",\n",
    "    \"sample_accession\",\n",
    "    \"sample_description\",\n",
    "    \"library_strategy\",\n",
    "    \"library_source\",\n",
    "    \"first_public\",\n",
    "    \"country\",\n",
    "    \"location\",\n",
    "    \"collection_date_start\",\n",
    "    \"collection_date_end\",\n",
    "    \"tax_id\",\n",
    "    \"host_tax_id\",\n",
    "]"
   ]
  },
  {
   "cell_type": "code",
   "execution_count": 3,
   "metadata": {},
   "outputs": [],
   "source": [
    "def get_run_metadata(\n",
    "    run_accession: str, fields: List[str], n_tries: int = 3, wait: int = 10\n",
    ") -> Dict[str, Optional[str]]:\n",
    "    # Define the base URL for the ENA API\n",
    "    base_url = \"https://www.ebi.ac.uk/ena/portal/api/filereport\"\n",
    "    # Define the parameters for the API request\n",
    "    params = {\n",
    "        \"accession\": run_accession,  # Run accession\n",
    "        \"result\": \"read_run\",  # Specify the type of data you want\n",
    "        \"format\": \"json\",  # Request the data in JSON format\n",
    "        \"fields\": \",\".join(fields),  # Request specific fields\n",
    "    }\n",
    "    attempt = 0\n",
    "    while attempt < n_tries:\n",
    "        try:\n",
    "            # Make the GET request to the ENA API\n",
    "            response = requests.get(base_url, params=params)\n",
    "            # Check if the request was successful (status code 200)\n",
    "            response.raise_for_status()\n",
    "            metadata = response.json()[0]\n",
    "            return {k: v for k, v in metadata.items() if len(v)}\n",
    "        except RequestException as e:\n",
    "            logging.warning(f\"Attempt {attempt + 1} failed: {str(e)}\")\n",
    "            # Start trying again if the request failed and there are attempts left\n",
    "            if attempt < n_tries - 1:\n",
    "                logging.info(f\"Retrying in {wait} seconds…\")\n",
    "                time.sleep(wait)\n",
    "            else:\n",
    "                raise RequestException(f\"Failed to retrieve data: {str(e)}\") from e\n",
    "        attempt += 1"
   ]
  },
  {
   "cell_type": "code",
   "execution_count": 4,
   "metadata": {},
   "outputs": [],
   "source": [
    "class RunMetadata(BaseModel):\n",
    "    run_accession: str\n",
    "    study_accession: str\n",
    "    sample_accession: str\n",
    "    sample_description: str\n",
    "    library_strategy: str\n",
    "    library_source: str\n",
    "    first_public: Optional[date] = None\n",
    "    country: Optional[CountryShortName] = None\n",
    "    location: Optional[Coordinate] = None\n",
    "    collection_date_start: Optional[date] = None\n",
    "    collection_date_end: Optional[date] = None\n",
    "    tax_id: Optional[int] = None\n",
    "    host_tax_id: Optional[int] = None\n",
    "\n",
    "    @field_validator(\n",
    "        \"first_public\",\n",
    "        \"collection_date_start\",\n",
    "        \"collection_date_end\",\n",
    "        mode=\"before\",\n",
    "    )\n",
    "    @classmethod\n",
    "    def parse_single_timestamp(cls, data: str, info: ValidationInfo) -> datetime:\n",
    "        data = data.strip(\"Z\")\n",
    "        date_formats = [\"%Y-%m-%d\", \"%Y\", \"%Y-%m\", \"%B %Y\"]\n",
    "        for fmt in date_formats:\n",
    "            try:\n",
    "                return datetime.strptime(data, fmt).date()\n",
    "            except ValueError:\n",
    "                continue\n",
    "        raise ValueError(f\"Invalid date format for {info.field_name}: {data}\")\n",
    "\n",
    "    @field_validator(\"country\", mode=\"before\")\n",
    "    @classmethod\n",
    "    def fix_country_name(cls, data: str, info: ValidationInfo) -> str:\n",
    "        country_name = (\n",
    "            data.split(\":\")[0].split(\",\")[0].split(\";\")[0].split(\"/\")[0].strip()\n",
    "        )\n",
    "        if country_name.casefold() == \"russia\":\n",
    "            country_name = \"Russian Federation\"\n",
    "        try:\n",
    "            return pycountry.countries.lookup(country_name).name\n",
    "        except LookupError:\n",
    "            try:\n",
    "                return pycountry.countries.lookup(\n",
    "                    country_name.split(\"(\")[1].split(\")\")[0]\n",
    "                ).name\n",
    "            except (LookupError, IndexError):\n",
    "                raise ValueError(f\"Invalid country name for {info.field_name}: {data}\")\n",
    "\n",
    "    @field_validator(\"location\", mode=\"before\")\n",
    "    @classmethod\n",
    "    def fix_location(cls, data: str) -> Coordinate:\n",
    "        lat_str, lat_dir, lon_str, lon_dir = data.split()\n",
    "        lat = float(lat_str) * (-1 if lat_dir in [\"S\", \"W\"] else 1)\n",
    "        lon = float(lon_str) * (-1 if lon_dir in [\"S\", \"W\"] else 1)\n",
    "        return Coordinate(lat, lon)"
   ]
  },
  {
   "cell_type": "code",
   "execution_count": 5,
   "metadata": {},
   "outputs": [
    {
     "name": "stdout",
     "output_type": "stream",
     "text": [
      "run_accession='SRR7091408' study_accession='PRJNA441428' sample_accession='SAMN08777777' sample_description='Rhizosphere microbial communities from Vellozia epidendroides in rupestrian grasslands, the National Park of Serra do Cipo, Brazil - RX_R1' library_strategy='WGS' library_source='METAGENOMIC' first_public=datetime.date(2018, 5, 3) country='Brazil' location=Coordinate(latitude=-19.2822, longitude=-43.5936) collection_date_start=datetime.date(2017, 3, 6) collection_date_end=datetime.date(2017, 3, 6) tax_id=939928 host_tax_id=1051480\n",
      "run_accession='SRR3993031' study_accession='PRJNA328899' sample_accession='SAMN05414960' sample_description='Keywords: GSC:MIxS MIMS:5.0' library_strategy='WGS' library_source='METAGENOMIC' first_public=datetime.date(2016, 8, 8) country='China' location=Coordinate(latitude=43.95, longitude=116.13) collection_date_start=datetime.date(2010, 9, 30) collection_date_end=datetime.date(2010, 10, 31) tax_id=408170 host_tax_id=9606\n",
      "run_accession='SRR6782230' study_accession='PRJNA435961' sample_accession='SAMN08606591' sample_description='16S.ME.D.25.18' library_strategy='OTHER' library_source='GENOMIC' first_public=datetime.date(2018, 10, 11) country=None location=None collection_date_start=None collection_date_end=None tax_id=2 host_tax_id=None\n",
      "run_accession='ERR9632109' study_accession='PRJEB49206' sample_accession='SAMEA14201091' sample_description='This sample represents a Bifidobacterium infantis genome isolated and sequenced from ERS2586324' library_strategy='WGS' library_source='GENOMIC' first_public=datetime.date(2022, 4, 20) country='Tanzania, United Republic of' location=Coordinate(latitude=-3.55, longitude=-34.58) collection_date_start=datetime.date(2014, 1, 1) collection_date_end=datetime.date(2014, 12, 31) tax_id=1682 host_tax_id=None\n"
     ]
    }
   ],
   "source": [
    "run_metadata = [\n",
    "    RunMetadata.model_validate(get_run_metadata(r, FIELDS)) for r in RUN_ACCESSIONS\n",
    "]\n",
    "for m in run_metadata:\n",
    "    print(m)"
   ]
  },
  {
   "cell_type": "code",
   "execution_count": 6,
   "metadata": {},
   "outputs": [],
   "source": [
    "with open(\"run_metadata.json\", \"w\") as fo:\n",
    "    json.dump(to_jsonable_python(run_metadata), fo, indent=2)"
   ]
  },
  {
   "cell_type": "code",
   "execution_count": 7,
   "metadata": {},
   "outputs": [
    {
     "name": "stdout",
     "output_type": "stream",
     "text": [
      "species: Vellozia epidendroides\n",
      "genus: Vellozia\n",
      "family: Velloziaceae\n",
      "order: Pandanales\n",
      "subclass: Petrosaviidae\n",
      "clade: Liliopsida\n",
      "clade: Mesangiospermae\n",
      "class: Magnoliopsida\n",
      "clade: Spermatophyta\n",
      "clade: Euphyllophyta\n",
      "clade: Tracheophyta\n",
      "clade: Embryophyta\n",
      "subphylum: Streptophytina\n",
      "phylum: Streptophyta\n",
      "kingdom: Viridiplantae\n",
      "superkingdom: Eukaryota\n",
      "no rank: cellular organisms\n",
      "no rank: root\n"
     ]
    }
   ],
   "source": [
    "taxdb = taxopy.TaxDb()\n",
    "host_taxon = taxopy.Taxon(run_metadata[0].host_tax_id, taxdb)\n",
    "for rank, name in host_taxon.ranked_name_lineage:\n",
    "    print(f\"{rank}: {name}\")"
   ]
  }
 ],
 "metadata": {
  "kernelspec": {
   "display_name": "Pixi - Python 3 (ipykernel)",
   "language": "python",
   "name": "pixi-kernel-python3"
  },
  "language_info": {
   "codemirror_mode": {
    "name": "ipython",
    "version": 3
   },
   "file_extension": ".py",
   "mimetype": "text/x-python",
   "name": "python",
   "nbconvert_exporter": "python",
   "pygments_lexer": "ipython3",
   "version": "3.12.5"
  }
 },
 "nbformat": 4,
 "nbformat_minor": 2
}
